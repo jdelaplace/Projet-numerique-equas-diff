{
 "cells": [
  {
   "cell_type": "markdown",
   "metadata": {},
   "source": [
    "# Projet numérique: Equations Différentielles"
   ]
  },
  {
   "cell_type": "markdown",
   "metadata": {},
   "source": [
    "#### Les équations de Lotka-Volterra\n",
    "\n",
    "$\\dot{x_1}=x_1(\\alpha-\\beta x_2)\n",
    "\\newline\n",
    "\\dot{x_2}=-x_2(\\gamma-\\delta x_1)$"
   ]
  },
  {
   "cell_type": "code",
   "execution_count": null,
   "metadata": {},
   "outputs": [],
   "source": [
    "import autograd\n",
    "import autograd.numpy as np\n",
    "\n",
    "import pandas as pd\n",
    "\n",
    "import matplotlib as mpl\n",
    "import matplotlib.pyplot as plt\n",
    "plt.rcParams['figure.figsize'] = [10, 10] # [width, height] (inches). \n",
    "\n",
    "from IPython.display import display"
   ]
  },
  {
   "cell_type": "markdown",
   "metadata": {},
   "source": [
    "#### Question 1\n",
    "Donner une interprétation physique à chaque terme de la dynamique. Montrer qu’il existe deux points d’équilibre (0,0) et $\\bar{x}\\in\\mathbb{R}_{+}^{*}$x$\\mathbb{R}_{+}^{*}$. Que peut-on dire de leur stabilité à ce stade ?"
   ]
  },
  {
   "cell_type": "markdown",
   "metadata": {},
   "source": [
    "*Réponse:* Pour la 1ère équation: le nombre de proies au cours du temps évolue ainsi: elles se reproduisent, donc leur nombre augmente avec le temps, par un facteur $\\alpha$;et une partie de ces proies est éliminée par un partie des prédateurs, d'où le terme $\\beta x_1 x_2$ (à améliorer ?).\n",
    "$\\newline$Pour la 2nde équation: un prédateur, en l'absence de sa proie, ne peut survivre: une partie d'entre eux qui n'a pas pu se nourrir des proies disparaît, d'où le terme $-\\gamma x_2$. Le reste des prédateurs, qui a pu se nourrir de ses proies, peut survivre et se reproduire: le nombre de prédateurs augmente donc proportionnellement au nombre de proies, d'un facteur $\\delta x_1$.\n",
    "\n",
    "Un point d'équilibre du couple d'équations vérifie $(\\dot{x_1},\\dot{x_2})= (0,0)$. Seuls les points (0,0) et $\\bar{x}=(\\frac{\\gamma}{\\delta},\\frac{\\alpha}{\\beta})$ vérifient cette condition.\n",
    "\n",
    "De plus: la fonction $f: x:=(x_1,x_2) \\in \\mathbb{R}^2 \\mapsto (\\dot{x_1},\\dot{x_2})$ est continûment différentiable, et sa matrice jacobienne est égale à $J_{f}((x_1,x_2))=\\begin{pmatrix}\\alpha-\\beta x_2 &-\\beta x_1\\\\ \\delta x_2&\\delta x_1 -\\gamma\\\\ \\end{pmatrix}$\n",
    "\n",
    "En (0,0), elle vaut $J_{f}((0,0))=\\begin{pmatrix}\\alpha &0\\\\ 0&\\ -\\gamma\\\\ \\end{pmatrix}$. Ses valeurs propres sont $\\alpha$ et $-\\gamma$, or $\\alpha >0$ donc d'après le lien entre stabilité et stabilité du linéarisé tangent, **(0,0) est un point d'équilibre instable du système.**\n",
    "\n",
    "En $(\\frac{\\gamma}{\\delta},\\frac{\\alpha}{\\beta})$, elle vaut $J_{f}((\\frac{\\gamma}{\\delta},\\frac{\\alpha}{\\beta}))=\\begin{pmatrix}0 &\\frac{-\\gamma\\beta}{\\delta}\\\\ \\frac{\\alpha\\delta}{\\beta}&0\\\\ \\end{pmatrix}$. Ses valeurs propres sont imaginaires purs, on ne peut pas utiliser le même critère qu'avec le point (0,0) pour déterminer la stabilité ou non de ce point. **Il faut réaliser une analyse plus approfondie pour déterminer sa stabilité ou non.** "
   ]
  },
  {
   "cell_type": "markdown",
   "metadata": {},
   "source": [
    "#### Question 2\n",
    "A l’aide des fonctions meshgrid et quiver, visualiser graphiquement le champ de vecteurs. Intuiter le comportement des solutions. On pourra aussi utiliser streamplot pour visualiser le portrait de phase."
   ]
  },
  {
   "cell_type": "code",
   "execution_count": null,
   "metadata": {},
   "outputs": [],
   "source": []
  },
  {
   "cell_type": "markdown",
   "metadata": {},
   "source": [
    "#### Question 3\n",
    "Par le théorème de Cauchy-Lipschitz, démontrer que toute solution initialisée dans $\\mathbb{R}_{+}^{*}$x$\\mathbb{R}_{+}^{*}$ reste dans $\\mathbb{R}_{+}^{*}$x$\\mathbb{R}_{+}^{*}$ sur son ensemble de définition."
   ]
  },
  {
   "cell_type": "markdown",
   "metadata": {},
   "source": [
    "*Réponse:*"
   ]
  },
  {
   "cell_type": "markdown",
   "metadata": {},
   "source": [
    "#### Question 4\n",
    "On considère la fonction $H(x_1,x_2) =\\delta x_1−\\gamma lnx_1+\\beta x_2−\\alpha lnx_2$ définie sur $\\mathbb{R}_{+}^{*}$x$\\mathbb{R}_{+}^{*}$. Calculer la dérivée de H le long des solutions initialisées dans $\\mathbb{R}_{+}^{*}$x$\\mathbb{R}_{+}^{*}$. En déduire que toute solution maximale initialisée dans $\\mathbb{R}_{+}^{*}$x$\\mathbb{R}_{+}^{*}$ est définie sur $\\mathbb{R}$."
   ]
  },
  {
   "cell_type": "markdown",
   "metadata": {},
   "source": [
    "*Réponse:* $\\frac{dH(x_1(t),x_2(t))}{dt}=\\langle\\nabla H(x_1(t),x_2(t))|(\\dot{x_1}(t),\\dot{x_2}(t))\\rangle\\newline$ Or,$\\nabla H(x_1(t),x_2(t))=(\\delta -\\frac{\\gamma}{x_1(t)},\\beta-\\frac{\\alpha}{x_2(t)})$ est bien défini pour toute solution initialisée dans $\\mathbb{R}^{*}_{+}$x$\\mathbb{R}^{*}_{+}$, car celles-ci restent pour tout t dans $\\mathbb{R}^{*}_{+}$x$\\mathbb{R}^{*}_{+}$ d'après la question précédente. $\\newline$ D'où:$\\newline\\frac{dH(x_1(t),x_2(t))}{dt}=(\\delta -\\frac{\\gamma}{x_1(t)})x_1(t)(\\alpha-\\beta x_2(t))+(\\beta-\\frac{\\alpha}{x_2(t)})(-x_2(t))(\\gamma-\\delta x_1(t))\\newline\\newline =(\\delta\\alpha x_1-\\gamma\\alpha-\\delta\\beta x_1(t)x_2(t) +\\gamma\\beta x_2(t))+\\beta\\delta x_1(t)x_2(t) -\\alpha\\delta x_1(t) - \\beta\\gamma x_2(t) + \\alpha\\gamma)\\newline\\newline =0$"
   ]
  },
  {
   "cell_type": "markdown",
   "metadata": {},
   "source": [
    "#### Question 5\n",
    "Représenter les courbes de niveau de H. Où se trouve ̄$\\bar{x}$? Qu’en conclut-on sur le comportement des solutions? En déduire (graphiquement) que ̄$\\bar{x}$ est stable, au sens de la définition de stabilité."
   ]
  },
  {
   "cell_type": "code",
   "execution_count": null,
   "metadata": {},
   "outputs": [],
   "source": []
  },
  {
   "cell_type": "markdown",
   "metadata": {},
   "source": [
    "#### Question 6\n",
    "Coder une fonction du type $\\newline$def solve_euler_explicit(f, x0, dt, t0, tf):$\\newline$...$\\newline$return t,$\\newline$ xprenant en entrée une fonction $f:\\mathbb{R}x\\mathbb{R}^n \\mapsto\\mathbb{R}^n$ quelconque, une condition initiale $x_0$, un pas de temps dt, les temps initiaux et finaux, et renvoyant le vecteur des temps $t^j$ et de la solution $x^j$du schéma d’Euler explicite appliqué à ̇$\\dot{x}$=f(t,x). La tester sur une équation différentielle aux solutions exactes connues. Vérifier la convergence du schéma lorsque dt tend vers 0. Comment visualiser graphiquement l’ordre de convergence ?"
   ]
  },
  {
   "cell_type": "code",
   "execution_count": null,
   "metadata": {},
   "outputs": [],
   "source": []
  },
  {
   "cell_type": "markdown",
   "metadata": {},
   "source": [
    "#### Question 7\n",
    "Utiliser le schéma d’Euler explicite pour simuler les équations de Lotka-Volterra. Que constate-t-on en temps long ? Cette résolution vous semble-t-elle fidèle à la réalité ? On pourra tracer l’évolution de la fonction H."
   ]
  },
  {
   "cell_type": "code",
   "execution_count": null,
   "metadata": {},
   "outputs": [],
   "source": []
  },
  {
   "cell_type": "markdown",
   "metadata": {},
   "source": [
    "#### Question 8\n",
    "Coder maintenant une fonction du type $\\newline$def solve_euler_implicit(f, x0, dt, t0, tf, itermax = 100):$\\newline$...$\\newline$return t,$\\newline$ x donnant la solution d’un schéma d’Euler implicite appliqué à ̇$\\dot{x}$=f(t,x)selon la méthode présentée dans le cours. Vérifier de nouveau sa convergence sur des solutions connues. Que se passe-t-il cette fois-ci sur les équations de Lotka-Volterra ?"
   ]
  },
  {
   "cell_type": "code",
   "execution_count": null,
   "metadata": {},
   "outputs": [],
   "source": []
  },
  {
   "cell_type": "markdown",
   "metadata": {},
   "source": [
    "#### Question 9\n",
    "Expliquer pourquoi les solutions de ̇$\\newline\\dot{x_1}=x_1(\\alpha−\\beta x_2)−u_1(x_1,x_2)(H(x_1,x_2)−H_0) ̇\\newline\\dot{x_2}=−x_2(\\gamma−\\delta x_1)−u_2(x_1,x_2)(H(x_1,x_2)−H_0)$sont identiques à celles de Lotka-Volterra si $H_0=H(x(0))$ pour tout choix de $u:\\mathbb{R}^2→\\mathbb{R}^2$ continûment différentiable."
   ]
  },
  {
   "cell_type": "markdown",
   "metadata": {},
   "source": [
    "*Réponse:*"
   ]
  },
  {
   "cell_type": "markdown",
   "metadata": {},
   "source": [
    "#### Question 10\n",
    "Soit $H_0\\in\\mathbb{R}$. Calculer la dérivée de $H−H_0$ le long des solutions de ce nouveau système. Montrer que l’on peut choisir u tel que $\\frac{d(H(x(t))−H_0)}{dt} =−k\\|\\nabla H(x(t))\\|^2 (H(x(t))−H_0)$.En déduire qu’alors H(x(t))converge exponentiellement vers $H_0$ lorsque t tend vers l’infini si x reste à une distance strictement positive de ̄$\\bar{x}$."
   ]
  },
  {
   "cell_type": "markdown",
   "metadata": {},
   "source": [
    "*Réponse:*"
   ]
  },
  {
   "cell_type": "markdown",
   "metadata": {},
   "source": [
    "#### Question 11\n",
    "En déduire comment modifier l’implémentation du schéma d’Euler pourassurer la stabilité de H. Quel est le rôle de k? Peut-il être choisi arbitrairement grand? Pourquoi? On pourra exprimer $H(x_j+1)−H(x_0)$ en fonction de $H(x_j)−H(x_0)$ au premier ordre en dt."
   ]
  },
  {
   "cell_type": "code",
   "execution_count": null,
   "metadata": {},
   "outputs": [],
   "source": []
  }
 ],
 "metadata": {
  "kernelspec": {
   "display_name": "Python 3",
   "language": "python",
   "name": "python3"
  },
  "language_info": {
   "codemirror_mode": {
    "name": "ipython",
    "version": 3
   },
   "file_extension": ".py",
   "mimetype": "text/x-python",
   "name": "python",
   "nbconvert_exporter": "python",
   "pygments_lexer": "ipython3",
   "version": "3.8.3"
  }
 },
 "nbformat": 4,
 "nbformat_minor": 4
}
